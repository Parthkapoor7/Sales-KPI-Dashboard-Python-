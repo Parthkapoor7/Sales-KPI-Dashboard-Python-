{
 "cells": [
  {
   "cell_type": "markdown",
   "metadata": {},
   "source": [
    "# Portfolio Project: Online Retail Exploratory Data Analysis with Python\n",
    "\n",
    "# By Parth Kapoor"
   ]
  },
  {
   "cell_type": "markdown",
   "metadata": {},
   "source": [
    "# Objectives-\n",
    "1.Data Cleaning: Handle missing values and remove any unnecessary columns.\n",
    "\n",
    "2.Basic Statistics: Explore measures of central tendency and dispersion.\n",
    "\n",
    "3.Data Visualization: Generate plots to visualize different aspects of the data.\n",
    "\n",
    "4.Sales Trends Analysis: Identify busy months and days of the week.\n",
    "\n",
    "5.Top-selling Products and Countries: Explore the top-selling products and countries.\n",
    "\n",
    "6.Outliers and Anomalies: Identify any outliers or anomalies and discuss their impact.\n"
   ]
  },
  {
   "cell_type": "code",
   "execution_count": 14,
   "metadata": {},
   "outputs": [],
   "source": [
    "import pandas as pd\n",
    "import numpy as np\n",
    "import seaborn as sns\n",
    "import matplotlib.pyplot as plt\n",
    "\n",
    "sns.set(color_codes=True)\n",
    "\n",
    "file_path = '/home/jovyan/work/Online Retail.xlsx'\n",
    "df = pd.read_excel(file_path)\n",
    "\n",
    "%matplotlib inline"
   ]
  },
  {
   "cell_type": "code",
   "execution_count": 15,
   "metadata": {},
   "outputs": [
    {
     "data": {
      "text/html": [
       "<div>\n",
       "<style scoped>\n",
       "    .dataframe tbody tr th:only-of-type {\n",
       "        vertical-align: middle;\n",
       "    }\n",
       "\n",
       "    .dataframe tbody tr th {\n",
       "        vertical-align: top;\n",
       "    }\n",
       "\n",
       "    .dataframe thead th {\n",
       "        text-align: right;\n",
       "    }\n",
       "</style>\n",
       "<table border=\"1\" class=\"dataframe\">\n",
       "  <thead>\n",
       "    <tr style=\"text-align: right;\">\n",
       "      <th></th>\n",
       "      <th>InvoiceNo</th>\n",
       "      <th>StockCode</th>\n",
       "      <th>Description</th>\n",
       "      <th>Quantity</th>\n",
       "      <th>InvoiceDate</th>\n",
       "      <th>UnitPrice</th>\n",
       "      <th>CustomerID</th>\n",
       "      <th>Country</th>\n",
       "    </tr>\n",
       "  </thead>\n",
       "  <tbody>\n",
       "    <tr>\n",
       "      <th>0</th>\n",
       "      <td>536365</td>\n",
       "      <td>85123A</td>\n",
       "      <td>WHITE HANGING HEART T-LIGHT HOLDER</td>\n",
       "      <td>6</td>\n",
       "      <td>2010-12-01 08:26:00</td>\n",
       "      <td>2.55</td>\n",
       "      <td>17850.0</td>\n",
       "      <td>United Kingdom</td>\n",
       "    </tr>\n",
       "    <tr>\n",
       "      <th>1</th>\n",
       "      <td>536365</td>\n",
       "      <td>71053</td>\n",
       "      <td>WHITE METAL LANTERN</td>\n",
       "      <td>6</td>\n",
       "      <td>2010-12-01 08:26:00</td>\n",
       "      <td>3.39</td>\n",
       "      <td>17850.0</td>\n",
       "      <td>United Kingdom</td>\n",
       "    </tr>\n",
       "    <tr>\n",
       "      <th>2</th>\n",
       "      <td>536365</td>\n",
       "      <td>84406B</td>\n",
       "      <td>CREAM CUPID HEARTS COAT HANGER</td>\n",
       "      <td>8</td>\n",
       "      <td>2010-12-01 08:26:00</td>\n",
       "      <td>2.75</td>\n",
       "      <td>17850.0</td>\n",
       "      <td>United Kingdom</td>\n",
       "    </tr>\n",
       "    <tr>\n",
       "      <th>3</th>\n",
       "      <td>536365</td>\n",
       "      <td>84029G</td>\n",
       "      <td>KNITTED UNION FLAG HOT WATER BOTTLE</td>\n",
       "      <td>6</td>\n",
       "      <td>2010-12-01 08:26:00</td>\n",
       "      <td>3.39</td>\n",
       "      <td>17850.0</td>\n",
       "      <td>United Kingdom</td>\n",
       "    </tr>\n",
       "    <tr>\n",
       "      <th>4</th>\n",
       "      <td>536365</td>\n",
       "      <td>84029E</td>\n",
       "      <td>RED WOOLLY HOTTIE WHITE HEART.</td>\n",
       "      <td>6</td>\n",
       "      <td>2010-12-01 08:26:00</td>\n",
       "      <td>3.39</td>\n",
       "      <td>17850.0</td>\n",
       "      <td>United Kingdom</td>\n",
       "    </tr>\n",
       "  </tbody>\n",
       "</table>\n",
       "</div>"
      ],
      "text/plain": [
       "  InvoiceNo StockCode                          Description  Quantity  \\\n",
       "0    536365    85123A   WHITE HANGING HEART T-LIGHT HOLDER         6   \n",
       "1    536365     71053                  WHITE METAL LANTERN         6   \n",
       "2    536365    84406B       CREAM CUPID HEARTS COAT HANGER         8   \n",
       "3    536365    84029G  KNITTED UNION FLAG HOT WATER BOTTLE         6   \n",
       "4    536365    84029E       RED WOOLLY HOTTIE WHITE HEART.         6   \n",
       "\n",
       "          InvoiceDate  UnitPrice  CustomerID         Country  \n",
       "0 2010-12-01 08:26:00       2.55     17850.0  United Kingdom  \n",
       "1 2010-12-01 08:26:00       3.39     17850.0  United Kingdom  \n",
       "2 2010-12-01 08:26:00       2.75     17850.0  United Kingdom  \n",
       "3 2010-12-01 08:26:00       3.39     17850.0  United Kingdom  \n",
       "4 2010-12-01 08:26:00       3.39     17850.0  United Kingdom  "
      ]
     },
     "execution_count": 15,
     "metadata": {},
     "output_type": "execute_result"
    }
   ],
   "source": [
    "df.head(5)   "
   ]
  },
  {
   "cell_type": "code",
   "execution_count": 16,
   "metadata": {},
   "outputs": [
    {
     "data": {
      "text/html": [
       "<div>\n",
       "<style scoped>\n",
       "    .dataframe tbody tr th:only-of-type {\n",
       "        vertical-align: middle;\n",
       "    }\n",
       "\n",
       "    .dataframe tbody tr th {\n",
       "        vertical-align: top;\n",
       "    }\n",
       "\n",
       "    .dataframe thead th {\n",
       "        text-align: right;\n",
       "    }\n",
       "</style>\n",
       "<table border=\"1\" class=\"dataframe\">\n",
       "  <thead>\n",
       "    <tr style=\"text-align: right;\">\n",
       "      <th></th>\n",
       "      <th>InvoiceNo</th>\n",
       "      <th>StockCode</th>\n",
       "      <th>Description</th>\n",
       "      <th>Quantity</th>\n",
       "      <th>InvoiceDate</th>\n",
       "      <th>UnitPrice</th>\n",
       "      <th>CustomerID</th>\n",
       "      <th>Country</th>\n",
       "    </tr>\n",
       "  </thead>\n",
       "  <tbody>\n",
       "    <tr>\n",
       "      <th>541904</th>\n",
       "      <td>581587</td>\n",
       "      <td>22613</td>\n",
       "      <td>PACK OF 20 SPACEBOY NAPKINS</td>\n",
       "      <td>12</td>\n",
       "      <td>2011-12-09 12:50:00</td>\n",
       "      <td>0.85</td>\n",
       "      <td>12680.0</td>\n",
       "      <td>France</td>\n",
       "    </tr>\n",
       "    <tr>\n",
       "      <th>541905</th>\n",
       "      <td>581587</td>\n",
       "      <td>22899</td>\n",
       "      <td>CHILDREN'S APRON DOLLY GIRL</td>\n",
       "      <td>6</td>\n",
       "      <td>2011-12-09 12:50:00</td>\n",
       "      <td>2.10</td>\n",
       "      <td>12680.0</td>\n",
       "      <td>France</td>\n",
       "    </tr>\n",
       "    <tr>\n",
       "      <th>541906</th>\n",
       "      <td>581587</td>\n",
       "      <td>23254</td>\n",
       "      <td>CHILDRENS CUTLERY DOLLY GIRL</td>\n",
       "      <td>4</td>\n",
       "      <td>2011-12-09 12:50:00</td>\n",
       "      <td>4.15</td>\n",
       "      <td>12680.0</td>\n",
       "      <td>France</td>\n",
       "    </tr>\n",
       "    <tr>\n",
       "      <th>541907</th>\n",
       "      <td>581587</td>\n",
       "      <td>23255</td>\n",
       "      <td>CHILDRENS CUTLERY CIRCUS PARADE</td>\n",
       "      <td>4</td>\n",
       "      <td>2011-12-09 12:50:00</td>\n",
       "      <td>4.15</td>\n",
       "      <td>12680.0</td>\n",
       "      <td>France</td>\n",
       "    </tr>\n",
       "    <tr>\n",
       "      <th>541908</th>\n",
       "      <td>581587</td>\n",
       "      <td>22138</td>\n",
       "      <td>BAKING SET 9 PIECE RETROSPOT</td>\n",
       "      <td>3</td>\n",
       "      <td>2011-12-09 12:50:00</td>\n",
       "      <td>4.95</td>\n",
       "      <td>12680.0</td>\n",
       "      <td>France</td>\n",
       "    </tr>\n",
       "  </tbody>\n",
       "</table>\n",
       "</div>"
      ],
      "text/plain": [
       "       InvoiceNo StockCode                      Description  Quantity  \\\n",
       "541904    581587     22613      PACK OF 20 SPACEBOY NAPKINS        12   \n",
       "541905    581587     22899     CHILDREN'S APRON DOLLY GIRL          6   \n",
       "541906    581587     23254    CHILDRENS CUTLERY DOLLY GIRL          4   \n",
       "541907    581587     23255  CHILDRENS CUTLERY CIRCUS PARADE         4   \n",
       "541908    581587     22138    BAKING SET 9 PIECE RETROSPOT          3   \n",
       "\n",
       "               InvoiceDate  UnitPrice  CustomerID Country  \n",
       "541904 2011-12-09 12:50:00       0.85     12680.0  France  \n",
       "541905 2011-12-09 12:50:00       2.10     12680.0  France  \n",
       "541906 2011-12-09 12:50:00       4.15     12680.0  France  \n",
       "541907 2011-12-09 12:50:00       4.15     12680.0  France  \n",
       "541908 2011-12-09 12:50:00       4.95     12680.0  France  "
      ]
     },
     "execution_count": 16,
     "metadata": {},
     "output_type": "execute_result"
    }
   ],
   "source": [
    "df.tail(5)"
   ]
  },
  {
   "cell_type": "code",
   "execution_count": 17,
   "metadata": {},
   "outputs": [
    {
     "data": {
      "text/plain": [
       "InvoiceNo              object\n",
       "StockCode              object\n",
       "Description            object\n",
       "Quantity                int64\n",
       "InvoiceDate    datetime64[ns]\n",
       "UnitPrice             float64\n",
       "CustomerID            float64\n",
       "Country                object\n",
       "dtype: object"
      ]
     },
     "execution_count": 17,
     "metadata": {},
     "output_type": "execute_result"
    }
   ],
   "source": [
    "df.dtypes"
   ]
  },
  {
   "cell_type": "code",
   "execution_count": 18,
   "metadata": {},
   "outputs": [
    {
     "name": "stdout",
     "output_type": "stream",
     "text": [
      "InvoiceNo           0\n",
      "StockCode           0\n",
      "Description      1454\n",
      "Quantity            0\n",
      "InvoiceDate         0\n",
      "UnitPrice           0\n",
      "CustomerID     135080\n",
      "Country             0\n",
      "dtype: int64\n"
     ]
    }
   ],
   "source": [
    "missing_values = df.isnull().sum()\n",
    "print(missing_values)"
   ]
  },
  {
   "cell_type": "markdown",
   "metadata": {},
   "source": [
    "# Data Cleaning\n",
    "The dataset has the following missing values:\n",
    "\n",
    "Description: 1,454 missing values\n",
    "CustomerID: 135,080 missing values\n",
    "\n",
    "Handling Missing Values\n",
    "Description: Since this is a relatively small number of missing values compared to the total dataset size, we can drop rows where Description is missing.\n",
    "\n",
    "CustomerID: A significant portion of the dataset is missing CustomerID. We can either drop these rows or fill in a placeholder value if the analysis allows.\n",
    "\n",
    "Let's proceed with these steps:\n",
    "\n",
    "Drop rows with missing Description.\n",
    "Handle missing CustomerID by dropping those rows, given the large number of missing values.\n",
    "Additionally, let's remove any redundant columns, if found, but in this case, all columns appear to be relevant."
   ]
  },
  {
   "cell_type": "code",
   "execution_count": 19,
   "metadata": {},
   "outputs": [
    {
     "name": "stdout",
     "output_type": "stream",
     "text": [
      "InvoiceNo      0\n",
      "StockCode      0\n",
      "Description    0\n",
      "Quantity       0\n",
      "InvoiceDate    0\n",
      "UnitPrice      0\n",
      "CustomerID     0\n",
      "Country        0\n",
      "dtype: int64\n"
     ]
    }
   ],
   "source": [
    "df_cleaned = df.dropna(subset=['Description'])\n",
    "df_cleaned = df.dropna(subset=['CustomerID'])\n",
    "missing_values_cleaned = df_cleaned.isnull().sum()\n",
    "print(missing_values_cleaned)"
   ]
  },
  {
   "cell_type": "markdown",
   "metadata": {},
   "source": [
    "# Next Steps\n",
    "Explore Basic Statistics: Let's explore measures of central tendency (mean, median) and dispersion (standard deviation) for the numeric columns.\n",
    "Data Visualization: Generate plots to visualize different aspects of the data, such as sales trends over time, top-selling products, and countries."
   ]
  },
  {
   "cell_type": "code",
   "execution_count": 20,
   "metadata": {},
   "outputs": [
    {
     "name": "stdout",
     "output_type": "stream",
     "text": [
      "            Quantity      UnitPrice     CustomerID\n",
      "count  406829.000000  406829.000000  406829.000000\n",
      "mean       12.061303       3.460471   15287.690570\n",
      "std       248.693370      69.315162    1713.600303\n",
      "min    -80995.000000       0.000000   12346.000000\n",
      "25%         2.000000       1.250000   13953.000000\n",
      "50%         5.000000       1.950000   15152.000000\n",
      "75%        12.000000       3.750000   16791.000000\n",
      "max     80995.000000   38970.000000   18287.000000\n"
     ]
    }
   ],
   "source": [
    "basic_statistics = df_cleaned.describe()\n",
    "print(basic_statistics)"
   ]
  },
  {
   "cell_type": "markdown",
   "metadata": {},
   "source": [
    "# Observations\n",
    "There are some extreme values in the Quantity column, indicated by the large standard deviation and extreme min/max values.\n",
    "Similarly, UnitPrice has a high standard deviation and extreme max value.\n",
    "The CustomerID values are within a consistent range.\n"
   ]
  },
  {
   "cell_type": "markdown",
   "metadata": {},
   "source": [
    "# Next Steps\n",
    "Data Visualization:\n",
    "Histogram for Quantity and UnitPrice.\n",
    "\n",
    "Time series plot for sales trends over time.\n",
    "\n",
    "Sales Trends Analysis:\n",
    "Identify the busiest months and days of the week.\n",
    "\n",
    "Top-selling Products and Countries:\n",
    "Explore the top-selling products and countries."
   ]
  },
  {
   "cell_type": "code",
   "execution_count": 21,
   "metadata": {},
   "outputs": [
    {
     "data": {
      "image/png": "[encoded data removed]",
      "text/plain": [
       "<Figure size 1008x432 with 2 Axes>"
      ]
     },
     "metadata": {
      "needs_background": "light"
     },
     "output_type": "display_data"
    }
   ],
   "source": [
    "plt.figure(figsize=(14, 6))\n",
    "\n",
    "plt.subplot(1, 2, 1)\n",
    "plt.hist(df_cleaned['Quantity'], bins=50, color='skyblue', edgecolor='black')\n",
    "plt.title('Distribution of Quantity')\n",
    "plt.xlabel('Quantity')\n",
    "plt.ylabel('Frequency')\n",
    "\n",
    "plt.subplot(1, 2, 2)\n",
    "plt.hist(df_cleaned['UnitPrice'], bins=50, color='lightgreen', edgecolor='black')\n",
    "plt.title('Distribution of Unit Price')\n",
    "plt.xlabel('Unit Price')\n",
    "plt.ylabel('Frequency')\n",
    "\n",
    "plt.tight_layout()\n",
    "plt.show()"
   ]
  },
  {
   "cell_type": "markdown",
   "metadata": {},
   "source": [
    "# The histograms show the distribution of Quantity and Unit Price:\n",
    "\n",
    "Quantity: The distribution is highly skewed with a long tail on both ends, indicating the presence of extreme values.\n",
    "\n",
    "Unit Price: The distribution is also skewed, with most unit prices being relatively low but a few very high values.\n",
    "\n",
    "# Next Steps\n",
    "\n",
    "Sales Trends Analysis:\n",
    "Analyze sales trends over time by plotting the total sales per month and per day of the week.\n",
    "\n",
    "Top-selling Products and Countries:\n",
    "Identify the top-selling products and countries based on the quantity sold.\n"
   ]
  },
  {
   "cell_type": "code",
   "execution_count": 22,
   "metadata": {},
   "outputs": [
    {
     "data": {
      "image/png": "[encoded data removed]",
      "text/plain": [
       "<Figure size 1008x432 with 2 Axes>"
      ]
     },
     "metadata": {
      "needs_background": "light"
     },
     "output_type": "display_data"
    }
   ],
   "source": [
    "df_cleaned['InvoiceMonth'] = df_cleaned['InvoiceDate'].dt.to_period('M')\n",
    "df_cleaned['InvoiceDayOfWeek'] = df_cleaned['InvoiceDate'].dt.day_name()\n",
    "df_cleaned['TotalSales'] = df_cleaned['Quantity'] * df_cleaned['UnitPrice']\n",
    "\n",
    "monthly_sales = df_cleaned.groupby('InvoiceMonth')['TotalSales'].sum()\n",
    "daily_sales = df_cleaned.groupby('InvoiceDayOfWeek')['TotalSales'].sum().reindex(['Monday','Tuesday','Wednesday','Thursday','Friday','Saturday','Sunday'])\n",
    "\n",
    "plt.figure(figsize=(14, 6))\n",
    "\n",
    "plt.subplot(1, 2, 1)\n",
    "monthly_sales.plot(kind='bar', color='skyblue', edgecolor='black')\n",
    "plt.title('Total Sales per Month')\n",
    "plt.xlabel('Month')\n",
    "plt.ylabel('Total Sales')\n",
    "\n",
    "plt.subplot(1, 2, 2)\n",
    "daily_sales.plot(kind='bar', color='lightgreen', edgecolor='black')\n",
    "plt.title('Total Sales per Day of the Week')\n",
    "plt.xlabel('Day of the Week')\n",
    "plt.ylabel('Total Sales')\n",
    "\n",
    "plt.tight_layout()\n",
    "plt.show()\n",
    "\n"
   ]
  },
  {
   "cell_type": "markdown",
   "metadata": {},
   "source": [
    "The bar plots provide insights into sales trends:\n",
    "\n",
    "Total Sales per Month: There is a clear seasonal pattern, with higher sales in certain months, likely corresponding to holiday seasons and special events.\n",
    "Total Sales per Day of the Week: Sales vary throughout the week, with some days showing higher sales than others, which might indicate peak shopping days."
   ]
  },
  {
   "cell_type": "code",
   "execution_count": 29,
   "metadata": {},
   "outputs": [
    {
     "data": {
      "image/png": "[encoded data removed]",
      "text/plain": [
       "<Figure size 1008x432 with 2 Axes>"
      ]
     },
     "metadata": {
      "needs_background": "light"
     },
     "output_type": "display_data"
    }
   ],
   "source": [
    "top_products = df_cleaned.groupby('Description')['Quantity'].sum().sort_values(ascending=False).head(10)\n",
    "\n",
    "top_countries = df_cleaned.groupby('Country')['Quantity'].sum().sort_values(ascending=False).head(10)\n",
    "\n",
    "plt.figure(figsize=(14,6))\n",
    "plt.subplot(1,2,1)\n",
    "top_products.plot(kind='bar', color='skyblue', edgecolor='black')\n",
    "plt.title('Top Selling Products')\n",
    "plt.xlabel('Product Description')\n",
    "plt.ylabel('Total Quantity Sold')\n",
    "plt.xticks(rotation=90)\n",
    "\n",
    "plt.subplot(1,2,2)\n",
    "top_countries.plot(kind='bar', color='lightgreen', edgecolor='black')\n",
    "plt.title('Top countries by Total Sales')\n",
    "plt.xlabel('Country')\n",
    "plt.ylabel('Total Sales')\n",
    "plt.xticks(rotation=90)\n",
    "\n",
    "plt.tight_layout()\n",
    "plt.show()"
   ]
  },
  {
   "cell_type": "markdown",
   "metadata": {},
   "source": [
    "# Insights from Top-Selling Products and Countries\n",
    "Top-Selling Products: The bar plot displays the top 10 products based on the total quantity sold. These products are highly popular and contribute significantly to the total sales.\n",
    "\n",
    "Top Countries by Total Sales: The bar plot shows the top 10 countries by total sales. The United Kingdom is the leading market, followed by other countries."
   ]
  },
  {
   "cell_type": "markdown",
   "metadata": {},
   "source": [
    "# Next Steps\n",
    "Identify Outliers and Anomalies: Examine any extreme values or unusual patterns in the data.\n",
    "Conclusions and Summary: Draw conclusions from the exploratory data analysis and summarize the findings."
   ]
  },
  {
   "cell_type": "code",
   "execution_count": 35,
   "metadata": {},
   "outputs": [
    {
     "data": {
      "image/png": "[encoded data removed]",
      "text/plain": [
       "<Figure size 1008x432 with 2 Axes>"
      ]
     },
     "metadata": {
      "needs_background": "light"
     },
     "output_type": "display_data"
    }
   ],
   "source": [
    "plt.figure(figsize=(14,6))\n",
    "\n",
    "plt.subplot(1,2,1)\n",
    "plt.boxplot(df_cleaned['Quantity'], vert=False)\n",
    "plt.title('Boxplot of Quantity')\n",
    "plt.xlabel('Quantity')\n",
    "\n",
    "plt.subplot(1,2,2)\n",
    "plt.boxplot(df_cleaned['UnitPrice'], vert=False)\n",
    "plt.title('Boxplot of Unit Price')\n",
    "plt.xlabel('Unit Price')\n",
    "\n",
    "plt.tight_layout()\n",
    "plt.show()"
   ]
  },
  {
   "cell_type": "markdown",
   "metadata": {},
   "source": [
    "# Outliers and Anomalies\n",
    "The boxplots reveal the presence of outliers in both the Quantity and Unit Price columns:\n",
    "\n",
    "Quantity: There are several extreme values on both ends, indicating unusually high and low quantities in some transactions.\n",
    "\n",
    "Unit Price: The boxplot shows a few very high unit prices, suggesting the presence of premium or expensive items.\n",
    "\n",
    "# Potential Impact of Outliers\n",
    "\n",
    "Outliers in Quantity: These might represent bulk purchases or returns. They can skew the analysis if not properly accounted for.\n",
    "\n",
    "Outliers in Unit Price: High unit prices might be for high-value products, which can impact the average sales calculations."
   ]
  },
  {
   "cell_type": "markdown",
   "metadata": {},
   "source": [
    "# Conclusions and Summary\n",
    "\n",
    "From the exploratory data analysis, we can draw the following conclusions:\n",
    "\n",
    "Sales Trends: There are clear seasonal trends in sales, with certain months and days of the week showing higher sales.\n",
    "\n",
    "Top-Selling Products: A small number of products contribute significantly to total sales.\n",
    "\n",
    "Top Countries: The United Kingdom is the primary market, with other countries contributing to a lesser extent.\n",
    "\n",
    "Outliers: There are notable outliers in both Quantity and Unit Price, which need to be considered in any further analysis or modeling."
   ]
  }
 ],
 "metadata": {
  "kernelspec": {
   "display_name": "Python 3",
   "language": "python",
   "name": "python3"
  },
  "language_info": {
   "codemirror_mode": {
    "name": "ipython",
    "version": 3
   },
   "file_extension": ".py",
   "mimetype": "text/x-python",
   "name": "python",
   "nbconvert_exporter": "python",
   "pygments_lexer": "ipython3",
   "version": "3.7.6"
  }
 },
 "nbformat": 4,
 "nbformat_minor": 4
}
